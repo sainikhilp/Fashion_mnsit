{
 "cells": [
  {
   "cell_type": "code",
   "execution_count": 1,
   "id": "9d82a39a",
   "metadata": {},
   "outputs": [],
   "source": [
    "import numpy as np\n",
    "import pandas as pd\n",
    "import matplotlib.pyplot as plt\n",
    "import seaborn as sns\n",
    "import tensorflow as tf"
   ]
  },
  {
   "cell_type": "code",
   "execution_count": 2,
   "id": "63c40763",
   "metadata": {},
   "outputs": [],
   "source": [
    "from tensorflow.keras.datasets import fashion_mnist\n",
    "\n",
    "(train_data, train_labels), (test_data, test_labels) = fashion_mnist.load_data()"
   ]
  },
  {
   "cell_type": "code",
   "execution_count": 3,
   "id": "343d399c",
   "metadata": {},
   "outputs": [
    {
     "data": {
      "text/plain": [
       "((60000, 28, 28), (60000,), (10000, 28, 28), (10000,))"
      ]
     },
     "execution_count": 3,
     "metadata": {},
     "output_type": "execute_result"
    }
   ],
   "source": [
    "train_data.shape,train_labels.shape,test_data.shape,test_labels.shape"
   ]
  },
  {
   "cell_type": "code",
   "execution_count": 4,
   "id": "cd6740ec",
   "metadata": {},
   "outputs": [],
   "source": [
    "#number of output neurons and also the classes available for classification\n",
    "class_names = ['T-shirt/top', 'Trouser', 'Pullover', 'Dress', 'Coat',\n",
    "               'Sandal', 'Shirt', 'Sneaker', 'Bag', 'Ankle boot']\n"
   ]
  },
  {
   "cell_type": "code",
   "execution_count": 41,
   "id": "e3666a3f",
   "metadata": {},
   "outputs": [
    {
     "data": {
      "image/png": "[encoded data removed]",
      "text/plain": [
       "<Figure size 700x700 with 4 Axes>"
      ]
     },
     "metadata": {},
     "output_type": "display_data"
    }
   ],
   "source": [
    "# plotting random images\n",
    "import random\n",
    "plt.figure(figsize=(7,7))\n",
    "for i in range(4):\n",
    "    ax = plt.subplot(2,2,i+1)\n",
    "    rand_index = random.choice(range(len(train_data)))\n",
    "    plt.imshow(train_data[rand_index])\n",
    "    plt.title(class_names[train_labels[rand_index]])\n",
    "    plt.axis(False)\n",
    "    plt.savefig('ImageClasses.jpg')\n"
   ]
  },
  {
   "cell_type": "code",
   "execution_count": 6,
   "id": "e14ae8a5",
   "metadata": {},
   "outputs": [
    {
     "name": "stdout",
     "output_type": "stream",
     "text": [
      "Epoch 1/10\n",
      "1875/1875 [==============================] - 4s 2ms/step - loss: 2.3386 - accuracy: 0.1011 - val_loss: 2.2905 - val_accuracy: 0.1128\n",
      "Epoch 2/10\n",
      "1875/1875 [==============================] - 2s 1ms/step - loss: 2.3024 - accuracy: 0.0994 - val_loss: 2.3027 - val_accuracy: 0.1000\n",
      "Epoch 3/10\n",
      "1875/1875 [==============================] - 3s 2ms/step - loss: 2.3027 - accuracy: 0.1002 - val_loss: 2.3027 - val_accuracy: 0.1000\n",
      "Epoch 4/10\n",
      "1875/1875 [==============================] - 3s 1ms/step - loss: 2.3028 - accuracy: 0.0975 - val_loss: 2.3026 - val_accuracy: 0.1000\n",
      "Epoch 5/10\n",
      "1875/1875 [==============================] - 3s 1ms/step - loss: 2.3028 - accuracy: 0.0973 - val_loss: 2.3026 - val_accuracy: 0.1000\n",
      "Epoch 6/10\n",
      "1875/1875 [==============================] - 3s 1ms/step - loss: 2.3028 - accuracy: 0.0992 - val_loss: 2.3026 - val_accuracy: 0.1000\n",
      "Epoch 7/10\n",
      "1875/1875 [==============================] - 2s 1ms/step - loss: 2.3028 - accuracy: 0.0987 - val_loss: 2.3026 - val_accuracy: 0.1000\n",
      "Epoch 8/10\n",
      "1875/1875 [==============================] - 2s 1ms/step - loss: 2.3028 - accuracy: 0.0982 - val_loss: 2.3027 - val_accuracy: 0.1000\n",
      "Epoch 9/10\n",
      "1875/1875 [==============================] - 2s 1ms/step - loss: 2.3028 - accuracy: 0.0989 - val_loss: 2.3027 - val_accuracy: 0.1000\n",
      "Epoch 10/10\n",
      "1875/1875 [==============================] - 2s 1ms/step - loss: 2.3028 - accuracy: 0.0986 - val_loss: 2.3027 - val_accuracy: 0.1000\n"
     ]
    }
   ],
   "source": [
    "#model creation\n",
    "tf.random.set_seed(42)\n",
    "model_1 = tf.keras.Sequential([\n",
    "    tf.keras.layers.Flatten(input_shape=(28,28)),# flattening the matrix into a 784 vector\n",
    "    tf.keras.layers.Dense(4,activation='relu'),\n",
    "    tf.keras.layers.Dense(4,activation='relu'),\n",
    "    tf.keras.layers.Dense(10,activation='softmax')\n",
    "    \n",
    "])\n",
    "\n",
    "model_1.compile(loss=tf.keras.losses.SparseCategoricalCrossentropy(), \n",
    "                optimizer=tf.keras.optimizers.Adam(),\n",
    "                metrics=[\"accuracy\"])\n",
    "\n",
    "history_1 = model_1.fit(train_data,\n",
    "                                train_labels,\n",
    "                                epochs=10,\n",
    "                                validation_data=(test_data, test_labels))\n"
   ]
  },
  {
   "cell_type": "code",
   "execution_count": 7,
   "id": "299985e4",
   "metadata": {},
   "outputs": [
    {
     "data": {
      "text/plain": [
       "(0, 255)"
      ]
     },
     "execution_count": 7,
     "metadata": {},
     "output_type": "execute_result"
    }
   ],
   "source": [
    "#normalizing the data as the modle performed very poorly on the training data\n",
    "train_data.min(),train_data.max()"
   ]
  },
  {
   "cell_type": "code",
   "execution_count": 8,
   "id": "592824a9",
   "metadata": {},
   "outputs": [],
   "source": [
    "train_data = train_data/255.0\n",
    "test_data = test_data/255.0"
   ]
  },
  {
   "cell_type": "code",
   "execution_count": 9,
   "id": "012eb757",
   "metadata": {},
   "outputs": [
    {
     "name": "stdout",
     "output_type": "stream",
     "text": [
      "Epoch 1/10\n",
      "1875/1875 [==============================] - 3s 2ms/step - loss: 2.3028 - accuracy: 0.0980 - val_loss: 2.3026 - val_accuracy: 0.1000\n",
      "Epoch 2/10\n",
      "1875/1875 [==============================] - 2s 1ms/step - loss: 2.3028 - accuracy: 0.0985 - val_loss: 2.3027 - val_accuracy: 0.1000\n",
      "Epoch 3/10\n",
      "1875/1875 [==============================] - 2s 1ms/step - loss: 2.3027 - accuracy: 0.1002 - val_loss: 2.3027 - val_accuracy: 0.1000\n",
      "Epoch 4/10\n",
      "1875/1875 [==============================] - 2s 1ms/step - loss: 2.3028 - accuracy: 0.0975 - val_loss: 2.3026 - val_accuracy: 0.1000\n",
      "Epoch 5/10\n",
      "1875/1875 [==============================] - 2s 954us/step - loss: 2.3028 - accuracy: 0.0973 - val_loss: 2.3026 - val_accuracy: 0.1000\n",
      "Epoch 6/10\n",
      "1875/1875 [==============================] - 2s 1ms/step - loss: 2.3028 - accuracy: 0.0992 - val_loss: 2.3026 - val_accuracy: 0.1000\n",
      "Epoch 7/10\n",
      "1875/1875 [==============================] - 2s 1ms/step - loss: 2.3028 - accuracy: 0.0987 - val_loss: 2.3026 - val_accuracy: 0.1000\n",
      "Epoch 8/10\n",
      "1875/1875 [==============================] - 3s 1ms/step - loss: 2.3028 - accuracy: 0.0982 - val_loss: 2.3027 - val_accuracy: 0.1000\n",
      "Epoch 9/10\n",
      "1875/1875 [==============================] - 2s 1ms/step - loss: 2.3028 - accuracy: 0.0989 - val_loss: 2.3027 - val_accuracy: 0.1000\n",
      "Epoch 10/10\n",
      "1875/1875 [==============================] - 2s 1ms/step - loss: 2.3028 - accuracy: 0.0986 - val_loss: 2.3027 - val_accuracy: 0.1000\n"
     ]
    }
   ],
   "source": [
    "tf.random.set_seed(42)\n",
    "\n",
    "model_2 = tf.keras.Sequential([\n",
    "    tf.keras.layers.Flatten(input_shape=(28,28)),# flattening the matrix into a 784 vector\n",
    "    tf.keras.layers.Dense(4,activation='relu'),\n",
    "    tf.keras.layers.Dense(4,activation='relu'),\n",
    "    tf.keras.layers.Dense(10,activation='softmax')\n",
    "    \n",
    "])\n",
    "\n",
    "model_1.compile(loss=tf.keras.losses.SparseCategoricalCrossentropy(), \n",
    "                optimizer=tf.keras.optimizers.Adam(),\n",
    "                metrics=[\"accuracy\"])\n",
    "\n",
    "history_2 = model_1.fit(train_data,\n",
    "                                train_labels,\n",
    "                                epochs=10,\n",
    "                                validation_data=(test_data, test_labels))\n"
   ]
  },
  {
   "cell_type": "code",
   "execution_count": 14,
   "id": "d679c9c7",
   "metadata": {},
   "outputs": [
    {
     "name": "stdout",
     "output_type": "stream",
     "text": [
      "Epoch 1/20\n",
      "1875/1875 [==============================] - 3s 2ms/step - loss: 0.5534 - accuracy: 0.8033 - val_loss: 0.5066 - val_accuracy: 0.8237\n",
      "Epoch 2/20\n",
      "1875/1875 [==============================] - 3s 1ms/step - loss: 0.4602 - accuracy: 0.8367 - val_loss: 0.5491 - val_accuracy: 0.8116\n",
      "Epoch 3/20\n",
      "1875/1875 [==============================] - 2s 1ms/step - loss: 0.4467 - accuracy: 0.8425 - val_loss: 0.4838 - val_accuracy: 0.8241\n",
      "Epoch 4/20\n",
      "1875/1875 [==============================] - 2s 1ms/step - loss: 0.4285 - accuracy: 0.8495 - val_loss: 0.4828 - val_accuracy: 0.8322\n",
      "Epoch 5/20\n",
      "1875/1875 [==============================] - 3s 1ms/step - loss: 0.4227 - accuracy: 0.8508 - val_loss: 0.4939 - val_accuracy: 0.8326\n",
      "Epoch 6/20\n",
      "1875/1875 [==============================] - 3s 1ms/step - loss: 0.4162 - accuracy: 0.8540 - val_loss: 0.5223 - val_accuracy: 0.8157\n",
      "Epoch 7/20\n",
      "1875/1875 [==============================] - 2s 1ms/step - loss: 0.4126 - accuracy: 0.8547 - val_loss: 0.5020 - val_accuracy: 0.8304\n",
      "Epoch 8/20\n",
      "1875/1875 [==============================] - 2s 1ms/step - loss: 0.4094 - accuracy: 0.8553 - val_loss: 0.4459 - val_accuracy: 0.8456\n",
      "Epoch 9/20\n",
      "1875/1875 [==============================] - 3s 1ms/step - loss: 0.4044 - accuracy: 0.8563 - val_loss: 0.4620 - val_accuracy: 0.8401\n",
      "Epoch 10/20\n",
      "1875/1875 [==============================] - 2s 1ms/step - loss: 0.4035 - accuracy: 0.8579 - val_loss: 0.4726 - val_accuracy: 0.8388\n",
      "Epoch 11/20\n",
      "1875/1875 [==============================] - 2s 1ms/step - loss: 0.4007 - accuracy: 0.8579 - val_loss: 0.4633 - val_accuracy: 0.8404\n",
      "Epoch 12/20\n",
      "1875/1875 [==============================] - 2s 1ms/step - loss: 0.3993 - accuracy: 0.8582 - val_loss: 0.4650 - val_accuracy: 0.8441\n",
      "Epoch 13/20\n",
      "1875/1875 [==============================] - 2s 1ms/step - loss: 0.3948 - accuracy: 0.8612 - val_loss: 0.4891 - val_accuracy: 0.8404\n",
      "Epoch 14/20\n",
      "1875/1875 [==============================] - 2s 1ms/step - loss: 0.3890 - accuracy: 0.8638 - val_loss: 0.4636 - val_accuracy: 0.8456\n",
      "Epoch 15/20\n",
      "1875/1875 [==============================] - 2s 1ms/step - loss: 0.3906 - accuracy: 0.8617 - val_loss: 0.4523 - val_accuracy: 0.8375\n",
      "Epoch 16/20\n",
      "1875/1875 [==============================] - 2s 1ms/step - loss: 0.3880 - accuracy: 0.8615 - val_loss: 0.4853 - val_accuracy: 0.8361\n",
      "Epoch 17/20\n",
      "1875/1875 [==============================] - 2s 1ms/step - loss: 0.3812 - accuracy: 0.8658 - val_loss: 0.4818 - val_accuracy: 0.8471\n",
      "Epoch 18/20\n",
      "1875/1875 [==============================] - 2s 1ms/step - loss: 0.3906 - accuracy: 0.8631 - val_loss: 0.4544 - val_accuracy: 0.8457\n",
      "Epoch 19/20\n",
      "1875/1875 [==============================] - 2s 1ms/step - loss: 0.3853 - accuracy: 0.8651 - val_loss: 0.4930 - val_accuracy: 0.8391\n",
      "Epoch 20/20\n",
      "1875/1875 [==============================] - 2s 1ms/step - loss: 0.3832 - accuracy: 0.8642 - val_loss: 0.4634 - val_accuracy: 0.8439\n"
     ]
    }
   ],
   "source": [
    "tf.random.set_seed(42)\n",
    "\n",
    "model_3 = tf.keras.Sequential([\n",
    "    tf.keras.layers.Flatten(input_shape=(28,28)),\n",
    "    tf.keras.layers.Dense(25,activation='relu'),\n",
    "    tf.keras.layers.Dense(25,activation='relu'),\n",
    "    tf.keras.layers.Dense(10,activation='softmax')\n",
    "])\n",
    "\n",
    "model_3.compile(loss=tf.keras.losses.SparseCategoricalCrossentropy(),\n",
    "               optimizer=tf.keras.optimizers.Adam(learning_rate=0.01),\n",
    "               metrics=['accuracy'])\n",
    "\n",
    "history_3 = model_3.fit(train_data,\n",
    "                       train_labels,\n",
    "                       epochs=20,\n",
    "                       validation_data=(test_data, test_labels))\n"
   ]
  },
  {
   "cell_type": "code",
   "execution_count": 18,
   "id": "026460a5",
   "metadata": {},
   "outputs": [
    {
     "name": "stdout",
     "output_type": "stream",
     "text": [
      "313/313 [==============================] - 1s 780us/step\n"
     ]
    }
   ],
   "source": [
    "#predictions\n",
    "y_prob  = model_3.predict(test_data)"
   ]
  },
  {
   "cell_type": "code",
   "execution_count": 19,
   "id": "1d0a6a74",
   "metadata": {},
   "outputs": [
    {
     "data": {
      "text/plain": [
       "array([[1.19518035e-25, 2.57350196e-12, 0.00000000e+00, ...,\n",
       "        1.74967900e-01, 1.33112236e-03, 8.17278624e-01],\n",
       "       [2.82327877e-04, 7.42494303e-05, 9.89501178e-01, ...,\n",
       "        2.98397347e-36, 1.44444016e-07, 5.47258816e-19],\n",
       "       [6.54201248e-13, 9.99999523e-01, 1.37514825e-14, ...,\n",
       "        0.00000000e+00, 4.43431020e-07, 4.56288112e-17],\n",
       "       ...,\n",
       "       [4.32873331e-02, 1.42711519e-06, 1.08026164e-02, ...,\n",
       "        5.07564191e-03, 9.17572379e-01, 9.43809107e-04],\n",
       "       [2.19537947e-11, 9.99991179e-01, 6.27759433e-12, ...,\n",
       "        0.00000000e+00, 8.68603911e-06, 4.76495949e-16],\n",
       "       [3.66133244e-14, 3.65202335e-13, 1.06266694e-18, ...,\n",
       "        1.11635124e-07, 5.07534726e-12, 5.18724366e-14]], dtype=float32)"
      ]
     },
     "execution_count": 19,
     "metadata": {},
     "output_type": "execute_result"
    }
   ],
   "source": [
    "y_prob"
   ]
  },
  {
   "cell_type": "code",
   "execution_count": 20,
   "id": "7b1bae96",
   "metadata": {},
   "outputs": [
    {
     "data": {
      "text/plain": [
       "array([9, 2, 1, 1, 6, 1, 4, 6, 5, 7], dtype=int64)"
      ]
     },
     "execution_count": 20,
     "metadata": {},
     "output_type": "execute_result"
    }
   ],
   "source": [
    "y_preds = y_prob.argmax(axis=1)\n",
    "y_preds[:10]"
   ]
  },
  {
   "cell_type": "code",
   "execution_count": 21,
   "id": "718ce285",
   "metadata": {},
   "outputs": [
    {
     "data": {
      "text/plain": [
       "array([[761,   1,  14,  79,   1,   2, 130,   0,  12,   0],\n",
       "       [  2, 960,   2,  29,   3,   0,   4,   0,   0,   0],\n",
       "       [  8,   4, 741,   9, 156,   0,  79,   0,   3,   0],\n",
       "       [ 15,   9,  21, 856,  59,   1,  34,   0,   5,   0],\n",
       "       [  0,   2, 106,  18, 838,   2,  32,   0,   2,   0],\n",
       "       [  0,   0,   0,   0,   0, 913,   2,  45,   3,  37],\n",
       "       [117,   1, 125,  50, 164,   1, 533,   0,   9,   0],\n",
       "       [  0,   0,   0,   0,   0,  19,   0, 941,   1,  39],\n",
       "       [  0,   1,   5,   3,   5,   4,  39,   4, 939,   0],\n",
       "       [  0,   0,   0,   0,   0,   9,   1,  33,   0, 957]], dtype=int64)"
      ]
     },
     "execution_count": 21,
     "metadata": {},
     "output_type": "execute_result"
    }
   ],
   "source": [
    "from sklearn.metrics import confusion_matrix\n",
    "confusion_matrix(test_labels,y_preds)"
   ]
  },
  {
   "cell_type": "code",
   "execution_count": 24,
   "id": "5f738292",
   "metadata": {},
   "outputs": [
    {
     "data": {
      "text/plain": [
       "array([[761,   1,  14,  79,   1,   2, 130,   0,  12,   0],\n",
       "       [  2, 960,   2,  29,   3,   0,   4,   0,   0,   0],\n",
       "       [  8,   4, 741,   9, 156,   0,  79,   0,   3,   0],\n",
       "       [ 15,   9,  21, 856,  59,   1,  34,   0,   5,   0],\n",
       "       [  0,   2, 106,  18, 838,   2,  32,   0,   2,   0],\n",
       "       [  0,   0,   0,   0,   0, 913,   2,  45,   3,  37],\n",
       "       [117,   1, 125,  50, 164,   1, 533,   0,   9,   0],\n",
       "       [  0,   0,   0,   0,   0,  19,   0, 941,   1,  39],\n",
       "       [  0,   1,   5,   3,   5,   4,  39,   4, 939,   0],\n",
       "       [  0,   0,   0,   0,   0,   9,   1,  33,   0, 957]], dtype=int64)"
      ]
     },
     "execution_count": 24,
     "metadata": {},
     "output_type": "execute_result"
    }
   ],
   "source": [
    "from sklearn.metrics import confusion_matrix,plot_confusion_matrix\n",
    "\n",
    "confusion_matrix(test_labels,y_preds)"
   ]
  },
  {
   "cell_type": "code",
   "execution_count": 34,
   "id": "b58145f5",
   "metadata": {},
   "outputs": [],
   "source": [
    "def plot_random_img(model,image,true_labels,classes):\n",
    "    \n",
    "    i = random.randint(0,len(image))\n",
    "    target_image = image[i]\n",
    "    pred_prob = model.predict(target_image.reshape(1,28,28))\n",
    "    pred_label = classes[pred_prob.argmax()]\n",
    "    true_label = classes[true_labels[i]]\n",
    "    \n",
    "    plt.imshow(target_image)\n",
    "    \n",
    "    if pred_label==true_label:\n",
    "        color='green'\n",
    "    else:\n",
    "        color='red'\n",
    "    \n",
    "    plt.xlabel(\"Pred: {} True: {}\".format(pred_label,true_label),color=color)"
   ]
  },
  {
   "cell_type": "code",
   "execution_count": 36,
   "id": "193a9881",
   "metadata": {},
   "outputs": [
    {
     "name": "stdout",
     "output_type": "stream",
     "text": [
      "1/1 [==============================] - 0s 24ms/step\n"
     ]
    },
    {
     "data": {
      "image/png": "[encoded data removed]",
      "text/plain": [
       "<Figure size 640x480 with 1 Axes>"
      ]
     },
     "metadata": {},
     "output_type": "display_data"
    }
   ],
   "source": [
    "plot_random_img(model_3,test_data,test_labels,class_names)"
   ]
  },
  {
   "cell_type": "code",
   "execution_count": 37,
   "id": "5991ed7e",
   "metadata": {},
   "outputs": [
    {
     "name": "stdout",
     "output_type": "stream",
     "text": [
      "Model: \"sequential_4\"\n",
      "_________________________________________________________________\n",
      " Layer (type)                Output Shape              Param #   \n",
      "=================================================================\n",
      " flatten_4 (Flatten)         (None, 784)               0         \n",
      "                                                                 \n",
      " dense_12 (Dense)            (None, 25)                19625     \n",
      "                                                                 \n",
      " dense_13 (Dense)            (None, 25)                650       \n",
      "                                                                 \n",
      " dense_14 (Dense)            (None, 10)                260       \n",
      "                                                                 \n",
      "=================================================================\n",
      "Total params: 20,535\n",
      "Trainable params: 20,535\n",
      "Non-trainable params: 0\n",
      "_________________________________________________________________\n"
     ]
    }
   ],
   "source": [
    "model_3.summary()"
   ]
  },
  {
   "cell_type": "code",
   "execution_count": 43,
   "id": "c4e897b3",
   "metadata": {},
   "outputs": [],
   "source": [
    "model_3.save('final_model.h5')"
   ]
  },
  {
   "cell_type": "code",
   "execution_count": null,
   "id": "37f6f7de",
   "metadata": {},
   "outputs": [],
   "source": []
  }
 ],
 "metadata": {
  "kernelspec": {
   "display_name": "Python 3 (ipykernel)",
   "language": "python",
   "name": "python3"
  },
  "language_info": {
   "codemirror_mode": {
    "name": "ipython",
    "version": 3
   },
   "file_extension": ".py",
   "mimetype": "text/x-python",
   "name": "python",
   "nbconvert_exporter": "python",
   "pygments_lexer": "ipython3",
   "version": "3.9.13"
  }
 },
 "nbformat": 4,
 "nbformat_minor": 5
}
